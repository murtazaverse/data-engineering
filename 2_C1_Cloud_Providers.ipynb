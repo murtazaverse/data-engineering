{
  "cells": [
    {
      "source": [
        "# Cloud Providers\n",
        "\n",
        "Previously, when cloud providers were not in fashion, companies usually designed a Data Center for their organization. However, having data centers came with a variety of problems, such as:\n",
        "\n",
        "- Covering electrical and maintenance costs.\n",
        "- Difficulty in optimizing for peaks vs quiet moments.\n",
        "- Vulnerability to disasters.\n",
        "- The need for different geographical locations.\n",
        "\n",
        "As time progressed, companies started shifting from data centers to cloud storage solutions.\n",
        "\n",
        "These are some of the major players in the cloud storage market:\n",
        "\n",
        "- Amazon Web Services (AWS).\n",
        "- Microsoft Azure.\n",
        "- Google Cloud.\n",
        "\n",
        "These cloud storage providers offer their own functionalities for storage, computation, and databases:\n",
        "\n",
        "### Storage: (Holding unstructured information)\n",
        "- AWS S3.\n",
        "- Azure Blob Storage.\n",
        "- Google Cloud Storage.\n",
        "\n",
        "### Computation: (Performing calculations, e.g., hosting a web server)\n",
        "- AWS EC2.\n",
        "- Azure Virtual Machines.\n",
        "- Google Compute Engine.\n",
        "\n",
        "### Databases: (Holding structured information)\n",
        "- AWS RDS.\n",
        "- Azure SQL Database.\n",
        "- Google Cloud SQL."
      ],
      "metadata": {
        "id": "7de73017-0566-4ec6-9398-e8914ba3920e"
      },
      "cell_type": "markdown",
      "id": "7de73017-0566-4ec6-9398-e8914ba3920e"
    }
  ],
  "metadata": {
    "colab": {
      "provenance": []
    },
    "kernelspec": {
      "display_name": "Python 3 (ipykernel)",
      "language": "python",
      "name": "python3"
    },
    "language_info": {
      "codemirror_mode": {
        "name": "ipython",
        "version": 3
      },
      "file_extension": ".py",
      "mimetype": "text/x-python",
      "name": "python",
      "nbconvert_exporter": "python",
      "pygments_lexer": "ipython3",
      "version": "3.8.10"
    }
  },
  "nbformat": 4,
  "nbformat_minor": 5
}